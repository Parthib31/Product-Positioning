{
 "cells": [
  {
   "cell_type": "code",
   "execution_count": 7,
   "metadata": {},
   "outputs": [],
   "source": [
    "import pandas as pd\n",
    "import numpy as np\n",
    "import matplotlib.pyplot as plt\n",
    "import seaborn as sns\n",
    "from sklearn.preprocessing import LabelEncoder\n",
    "from sklearn.model_selection import train_test_split\n",
    "from sklearn.metrics import accuracy_score\n",
    "from sklearn.model_selection import cross_val_score\n",
    "from sklearn.metrics import classification_report"
   ]
  },
  {
   "cell_type": "code",
   "execution_count": 8,
   "metadata": {
    "colab": {
     "base_uri": "https://localhost:8080/"
    },
    "id": "TjTU4yy010vO",
    "outputId": "50cc26af-7aa7-42d4-ce2e-00adebfad8bd"
   },
   "outputs": [
    {
     "name": "stdout",
     "output_type": "stream",
     "text": [
      "<class 'pandas.core.frame.DataFrame'>\n",
      "RangeIndex: 1000 entries, 0 to 999\n",
      "Data columns (total 10 columns):\n",
      " #   Column                 Non-Null Count  Dtype  \n",
      "---  ------                 --------------  -----  \n",
      " 0   Product ID             1000 non-null   int64  \n",
      " 1   Product Position       1000 non-null   object \n",
      " 2   Price                  1000 non-null   float64\n",
      " 3   Competitor's Price     1000 non-null   float64\n",
      " 4   Promotion              1000 non-null   object \n",
      " 5   Foot Traffic           1000 non-null   object \n",
      " 6   Consumer Demographics  1000 non-null   object \n",
      " 7   Product Category       1000 non-null   object \n",
      " 8   Seasonal               1000 non-null   object \n",
      " 9   Sales Volume           1000 non-null   int64  \n",
      "dtypes: float64(2), int64(2), object(6)\n",
      "memory usage: 78.2+ KB\n",
      "None\n"
     ]
    }
   ],
   "source": [
    "import pandas as pd\n",
    "df = pd.read_csv('Product Positioning.csv')\n",
    "print(df.info())"
   ]
  },
  {
   "cell_type": "code",
   "execution_count": 9,
   "metadata": {
    "colab": {
     "base_uri": "https://localhost:8080/"
    },
    "id": "utPZPU0ZexWl",
    "outputId": "51b5a3aa-aca2-4dee-e7f0-8939d3223d70"
   },
   "outputs": [
    {
     "data": {
      "text/plain": [
       "Product ID               0\n",
       "Product Position         0\n",
       "Price                    0\n",
       "Competitor's Price       0\n",
       "Promotion                0\n",
       "Foot Traffic             0\n",
       "Consumer Demographics    0\n",
       "Product Category         0\n",
       "Seasonal                 0\n",
       "Sales Volume             0\n",
       "dtype: int64"
      ]
     },
     "execution_count": 9,
     "metadata": {},
     "output_type": "execute_result"
    }
   ],
   "source": [
    "df.isnull().sum(axis=0)"
   ]
  },
  {
   "cell_type": "code",
   "execution_count": 10,
   "metadata": {
    "colab": {
     "base_uri": "https://localhost:8080/"
    },
    "id": "nPx-665be3TY",
    "outputId": "7afe9ebc-c1a3-45ec-f40a-5f0822eb6074"
   },
   "outputs": [
    {
     "name": "stdout",
     "output_type": "stream",
     "text": [
      "categorical:  ['Product Position', 'Promotion', 'Foot Traffic', 'Consumer Demographics', 'Product Category', 'Seasonal']\n",
      "num_f:  ['Price', \"Competitor's Price\", 'Sales Volume']\n"
     ]
    }
   ],
   "source": [
    "df = df.drop(\"Product ID\", axis = 1)\n",
    "categorical_features = []\n",
    "numerical_features = []\n",
    "for col in df.columns:\n",
    "  if df[col].dtype == 'O':\n",
    "    categorical_features.append(col)\n",
    "  else:\n",
    "    numerical_features.append(col)\n",
    "print('categorical: ',categorical_features)\n",
    "print('num_f: ',numerical_features)"
   ]
  },
  {
   "cell_type": "code",
   "execution_count": 11,
   "metadata": {
    "colab": {
     "base_uri": "https://localhost:8080/"
    },
    "id": "Bw_v4-cYeN8A",
    "outputId": "f0bed65a-0c3b-4e5f-d42c-48442ed1deaf"
   },
   "outputs": [
    {
     "name": "stdout",
     "output_type": "stream",
     "text": [
      "['Aisle' 'End-cap' 'Front of Store']\n",
      "['No' 'Yes']\n",
      "['Medium' 'Low' 'High']\n",
      "['Families' 'Seniors' 'Young adults' 'College students']\n",
      "['Clothing' 'Electronics' 'Food']\n",
      "['No' 'Yes']\n"
     ]
    }
   ],
   "source": [
    "for feature in categorical_features:\n",
    "  print(df[feature].unique())"
   ]
  },
  {
   "cell_type": "code",
   "execution_count": 12,
   "metadata": {
    "colab": {
     "base_uri": "https://localhost:8080/"
    },
    "id": "7SU2AEt4e7Y0",
    "outputId": "81ef0039-f1f1-4a6b-fe28-47dcd4723b69"
   },
   "outputs": [
    {
     "data": {
      "text/plain": [
       "Product Position         0\n",
       "Price                    0\n",
       "Competitor's Price       0\n",
       "Promotion                0\n",
       "Foot Traffic             0\n",
       "Consumer Demographics    0\n",
       "Product Category         0\n",
       "Seasonal                 0\n",
       "Sales Volume             0\n",
       "dtype: int64"
      ]
     },
     "execution_count": 12,
     "metadata": {},
     "output_type": "execute_result"
    }
   ],
   "source": [
    "for columns in df.columns:\n",
    "  if df[columns].isnull().sum()>0 and df[columns].dtype !='O':\n",
    "    df[columns].fillna(df[columns].mean(),inplace=True)\n",
    "df.isnull().sum()"
   ]
  },
  {
   "cell_type": "code",
   "execution_count": 13,
   "metadata": {
    "colab": {
     "base_uri": "https://localhost:8080/",
     "height": 206
    },
    "id": "WKwO4z6SgOJa",
    "outputId": "21b17733-9447-49e0-e555-606a22b08c0f"
   },
   "outputs": [
    {
     "data": {
      "text/html": [
       "<div>\n",
       "<style scoped>\n",
       "    .dataframe tbody tr th:only-of-type {\n",
       "        vertical-align: middle;\n",
       "    }\n",
       "\n",
       "    .dataframe tbody tr th {\n",
       "        vertical-align: top;\n",
       "    }\n",
       "\n",
       "    .dataframe thead th {\n",
       "        text-align: right;\n",
       "    }\n",
       "</style>\n",
       "<table border=\"1\" class=\"dataframe\">\n",
       "  <thead>\n",
       "    <tr style=\"text-align: right;\">\n",
       "      <th></th>\n",
       "      <th>Product Position</th>\n",
       "      <th>Price</th>\n",
       "      <th>Competitor's Price</th>\n",
       "      <th>Promotion</th>\n",
       "      <th>Foot Traffic</th>\n",
       "      <th>Consumer Demographics</th>\n",
       "      <th>Product Category</th>\n",
       "      <th>Seasonal</th>\n",
       "      <th>Sales Volume</th>\n",
       "    </tr>\n",
       "  </thead>\n",
       "  <tbody>\n",
       "    <tr>\n",
       "      <th>0</th>\n",
       "      <td>Aisle</td>\n",
       "      <td>17.07</td>\n",
       "      <td>16.16</td>\n",
       "      <td>No</td>\n",
       "      <td>Medium</td>\n",
       "      <td>Families</td>\n",
       "      <td>Clothing</td>\n",
       "      <td>No</td>\n",
       "      <td>2823</td>\n",
       "    </tr>\n",
       "    <tr>\n",
       "      <th>1</th>\n",
       "      <td>Aisle</td>\n",
       "      <td>17.41</td>\n",
       "      <td>13.13</td>\n",
       "      <td>No</td>\n",
       "      <td>Low</td>\n",
       "      <td>Seniors</td>\n",
       "      <td>Clothing</td>\n",
       "      <td>No</td>\n",
       "      <td>654</td>\n",
       "    </tr>\n",
       "    <tr>\n",
       "      <th>2</th>\n",
       "      <td>End-cap</td>\n",
       "      <td>43.16</td>\n",
       "      <td>38.37</td>\n",
       "      <td>Yes</td>\n",
       "      <td>Medium</td>\n",
       "      <td>Young adults</td>\n",
       "      <td>Electronics</td>\n",
       "      <td>Yes</td>\n",
       "      <td>2220</td>\n",
       "    </tr>\n",
       "    <tr>\n",
       "      <th>3</th>\n",
       "      <td>Aisle</td>\n",
       "      <td>42.26</td>\n",
       "      <td>38.98</td>\n",
       "      <td>Yes</td>\n",
       "      <td>Low</td>\n",
       "      <td>Families</td>\n",
       "      <td>Clothing</td>\n",
       "      <td>Yes</td>\n",
       "      <td>1568</td>\n",
       "    </tr>\n",
       "    <tr>\n",
       "      <th>4</th>\n",
       "      <td>End-cap</td>\n",
       "      <td>47.94</td>\n",
       "      <td>45.59</td>\n",
       "      <td>No</td>\n",
       "      <td>Medium</td>\n",
       "      <td>College students</td>\n",
       "      <td>Clothing</td>\n",
       "      <td>Yes</td>\n",
       "      <td>2942</td>\n",
       "    </tr>\n",
       "  </tbody>\n",
       "</table>\n",
       "</div>"
      ],
      "text/plain": [
       "  Product Position  Price  Competitor's Price Promotion Foot Traffic  \\\n",
       "0            Aisle  17.07               16.16        No       Medium   \n",
       "1            Aisle  17.41               13.13        No          Low   \n",
       "2          End-cap  43.16               38.37       Yes       Medium   \n",
       "3            Aisle  42.26               38.98       Yes          Low   \n",
       "4          End-cap  47.94               45.59        No       Medium   \n",
       "\n",
       "  Consumer Demographics Product Category Seasonal  Sales Volume  \n",
       "0              Families         Clothing       No          2823  \n",
       "1               Seniors         Clothing       No           654  \n",
       "2          Young adults      Electronics      Yes          2220  \n",
       "3              Families         Clothing      Yes          1568  \n",
       "4      College students         Clothing      Yes          2942  "
      ]
     },
     "execution_count": 13,
     "metadata": {},
     "output_type": "execute_result"
    }
   ],
   "source": [
    "df.head()"
   ]
  },
  {
   "cell_type": "code",
   "execution_count": 14,
   "metadata": {
    "colab": {
     "base_uri": "https://localhost:8080/",
     "height": 1000
    },
    "id": "Wilj-w1mhNv-",
    "outputId": "e4839a5a-8685-4dcf-dd79-bb6960a81384"
   },
   "outputs": [
    {
     "data": {
      "image/png": "[encoded data removed]",
      "text/plain": [
       "<Figure size 640x480 with 1 Axes>"
      ]
     },
     "metadata": {},
     "output_type": "display_data"
    },
    {
     "data": {
      "image/png": "[encoded data removed]",
      "text/plain": [
       "<Figure size 640x480 with 1 Axes>"
      ]
     },
     "metadata": {},
     "output_type": "display_data"
    },
    {
     "data": {
      "image/png": "[encoded data removed]",
      "text/plain": [
       "<Figure size 640x480 with 1 Axes>"
      ]
     },
     "metadata": {},
     "output_type": "display_data"
    }
   ],
   "source": [
    "for feature in numerical_features:\n",
    "  df.boxplot(feature)\n",
    "  plt.show()"
   ]
  },
  {
   "cell_type": "code",
   "execution_count": 15,
   "metadata": {
    "id": "GpKFdQ44hRuE"
   },
   "outputs": [
    {
     "name": "stderr",
     "output_type": "stream",
     "text": [
      "C:\\Users\\Parthib Chowdhury\\AppData\\Local\\Temp\\ipykernel_15368\\2457246541.py:6: FutureWarning: Setting an item of incompatible dtype is deprecated and will raise in a future error of pandas. Value '4204.625' has dtype incompatible with int64, please explicitly cast to a compatible dtype first.\n",
      "  df.loc[df[feature] >= upper_bound, feature] = upper_bound\n"
     ]
    }
   ],
   "source": [
    "for feature in numerical_features:\n",
    "  IQR = df[feature].quantile(0.75) - df[feature].quantile(0.25)\n",
    "  upper_bound = df[feature].quantile(0.75) + 1.5 * IQR\n",
    "  lower_bound = df[feature].quantile(0.25) - 1.5 * IQR\n",
    "\n",
    "  df.loc[df[feature] >= upper_bound, feature] = upper_bound\n",
    "  df.loc[df[feature] < lower_bound, feature] = lower_bound"
   ]
  },
  {
   "cell_type": "code",
   "execution_count": 16,
   "metadata": {
    "id": "65g20UgPhWBh"
   },
   "outputs": [],
   "source": [
    "for feature in numerical_features:\n",
    "  df[feature] = np.log1p(df[feature])"
   ]
  },
  {
   "cell_type": "code",
   "execution_count": 17,
   "metadata": {
    "colab": {
     "base_uri": "https://localhost:8080/",
     "height": 1000
    },
    "id": "N3X-1S19hZSn",
    "outputId": "608d1fe5-e0c1-4fab-bd26-aca0c50c776a"
   },
   "outputs": [
    {
     "data": {
      "image/png": "[encoded data removed]",
      "text/plain": [
       "<Figure size 500x500 with 1 Axes>"
      ]
     },
     "metadata": {},
     "output_type": "display_data"
    },
    {
     "data": {
      "image/png": "[encoded data removed]",
      "text/plain": [
       "<Figure size 500x500 with 1 Axes>"
      ]
     },
     "metadata": {},
     "output_type": "display_data"
    },
    {
     "data": {
      "image/png": "[encoded data removed]",
      "text/plain": [
       "<Figure size 500x500 with 1 Axes>"
      ]
     },
     "metadata": {},
     "output_type": "display_data"
    }
   ],
   "source": [
    "for feature in numerical_features:\n",
    "  sns.displot(df[feature])\n",
    "  plt.show()"
   ]
  },
  {
   "cell_type": "code",
   "execution_count": 18,
   "metadata": {
    "colab": {
     "base_uri": "https://localhost:8080/",
     "height": 478
    },
    "id": "SjvDWFv2cIXD",
    "outputId": "e75c160b-776a-4593-b5b3-cbbfe77b130f"
   },
   "outputs": [
    {
     "data": {
      "text/html": [
       "<div>\n",
       "<style scoped>\n",
       "    .dataframe tbody tr th:only-of-type {\n",
       "        vertical-align: middle;\n",
       "    }\n",
       "\n",
       "    .dataframe tbody tr th {\n",
       "        vertical-align: top;\n",
       "    }\n",
       "\n",
       "    .dataframe thead th {\n",
       "        text-align: right;\n",
       "    }\n",
       "</style>\n",
       "<table border=\"1\" class=\"dataframe\">\n",
       "  <thead>\n",
       "    <tr style=\"text-align: right;\">\n",
       "      <th></th>\n",
       "      <th>Price</th>\n",
       "      <th>Competitor's Price</th>\n",
       "      <th>Sales Volume</th>\n",
       "      <th>Promotion_Yes</th>\n",
       "      <th>Foot Traffic_Low</th>\n",
       "      <th>Foot Traffic_Medium</th>\n",
       "      <th>Consumer Demographics_Families</th>\n",
       "      <th>Consumer Demographics_Seniors</th>\n",
       "      <th>Consumer Demographics_Young adults</th>\n",
       "      <th>Product Category_Electronics</th>\n",
       "      <th>Product Category_Food</th>\n",
       "      <th>Seasonal_Yes</th>\n",
       "    </tr>\n",
       "  </thead>\n",
       "  <tbody>\n",
       "    <tr>\n",
       "      <th>0</th>\n",
       "      <td>2.894253</td>\n",
       "      <td>2.842581</td>\n",
       "      <td>7.945910</td>\n",
       "      <td>False</td>\n",
       "      <td>False</td>\n",
       "      <td>True</td>\n",
       "      <td>True</td>\n",
       "      <td>False</td>\n",
       "      <td>False</td>\n",
       "      <td>False</td>\n",
       "      <td>False</td>\n",
       "      <td>False</td>\n",
       "    </tr>\n",
       "    <tr>\n",
       "      <th>1</th>\n",
       "      <td>2.912894</td>\n",
       "      <td>2.648300</td>\n",
       "      <td>6.484635</td>\n",
       "      <td>False</td>\n",
       "      <td>True</td>\n",
       "      <td>False</td>\n",
       "      <td>False</td>\n",
       "      <td>True</td>\n",
       "      <td>False</td>\n",
       "      <td>False</td>\n",
       "      <td>False</td>\n",
       "      <td>False</td>\n",
       "    </tr>\n",
       "    <tr>\n",
       "      <th>2</th>\n",
       "      <td>3.787819</td>\n",
       "      <td>3.673004</td>\n",
       "      <td>7.705713</td>\n",
       "      <td>True</td>\n",
       "      <td>False</td>\n",
       "      <td>True</td>\n",
       "      <td>False</td>\n",
       "      <td>False</td>\n",
       "      <td>True</td>\n",
       "      <td>True</td>\n",
       "      <td>False</td>\n",
       "      <td>True</td>\n",
       "    </tr>\n",
       "    <tr>\n",
       "      <th>3</th>\n",
       "      <td>3.767228</td>\n",
       "      <td>3.688379</td>\n",
       "      <td>7.358194</td>\n",
       "      <td>True</td>\n",
       "      <td>True</td>\n",
       "      <td>False</td>\n",
       "      <td>True</td>\n",
       "      <td>False</td>\n",
       "      <td>False</td>\n",
       "      <td>False</td>\n",
       "      <td>False</td>\n",
       "      <td>True</td>\n",
       "    </tr>\n",
       "    <tr>\n",
       "      <th>4</th>\n",
       "      <td>3.890595</td>\n",
       "      <td>3.841386</td>\n",
       "      <td>7.987185</td>\n",
       "      <td>False</td>\n",
       "      <td>False</td>\n",
       "      <td>True</td>\n",
       "      <td>False</td>\n",
       "      <td>False</td>\n",
       "      <td>False</td>\n",
       "      <td>False</td>\n",
       "      <td>False</td>\n",
       "      <td>True</td>\n",
       "    </tr>\n",
       "    <tr>\n",
       "      <th>...</th>\n",
       "      <td>...</td>\n",
       "      <td>...</td>\n",
       "      <td>...</td>\n",
       "      <td>...</td>\n",
       "      <td>...</td>\n",
       "      <td>...</td>\n",
       "      <td>...</td>\n",
       "      <td>...</td>\n",
       "      <td>...</td>\n",
       "      <td>...</td>\n",
       "      <td>...</td>\n",
       "      <td>...</td>\n",
       "    </tr>\n",
       "    <tr>\n",
       "      <th>995</th>\n",
       "      <td>2.530517</td>\n",
       "      <td>2.262804</td>\n",
       "      <td>7.033506</td>\n",
       "      <td>False</td>\n",
       "      <td>False</td>\n",
       "      <td>True</td>\n",
       "      <td>True</td>\n",
       "      <td>False</td>\n",
       "      <td>False</td>\n",
       "      <td>True</td>\n",
       "      <td>False</td>\n",
       "      <td>True</td>\n",
       "    </tr>\n",
       "    <tr>\n",
       "      <th>996</th>\n",
       "      <td>3.886090</td>\n",
       "      <td>3.866607</td>\n",
       "      <td>6.338594</td>\n",
       "      <td>False</td>\n",
       "      <td>False</td>\n",
       "      <td>True</td>\n",
       "      <td>False</td>\n",
       "      <td>False</td>\n",
       "      <td>False</td>\n",
       "      <td>False</td>\n",
       "      <td>True</td>\n",
       "      <td>True</td>\n",
       "    </tr>\n",
       "    <tr>\n",
       "      <th>997</th>\n",
       "      <td>3.104587</td>\n",
       "      <td>2.981126</td>\n",
       "      <td>6.792344</td>\n",
       "      <td>True</td>\n",
       "      <td>False</td>\n",
       "      <td>False</td>\n",
       "      <td>False</td>\n",
       "      <td>True</td>\n",
       "      <td>False</td>\n",
       "      <td>True</td>\n",
       "      <td>False</td>\n",
       "      <td>False</td>\n",
       "    </tr>\n",
       "    <tr>\n",
       "      <th>998</th>\n",
       "      <td>3.170526</td>\n",
       "      <td>3.002211</td>\n",
       "      <td>7.839526</td>\n",
       "      <td>False</td>\n",
       "      <td>False</td>\n",
       "      <td>True</td>\n",
       "      <td>False</td>\n",
       "      <td>True</td>\n",
       "      <td>False</td>\n",
       "      <td>True</td>\n",
       "      <td>False</td>\n",
       "      <td>True</td>\n",
       "    </tr>\n",
       "    <tr>\n",
       "      <th>999</th>\n",
       "      <td>1.998774</td>\n",
       "      <td>1.832581</td>\n",
       "      <td>7.967280</td>\n",
       "      <td>True</td>\n",
       "      <td>False</td>\n",
       "      <td>True</td>\n",
       "      <td>False</td>\n",
       "      <td>False</td>\n",
       "      <td>True</td>\n",
       "      <td>True</td>\n",
       "      <td>False</td>\n",
       "      <td>False</td>\n",
       "    </tr>\n",
       "  </tbody>\n",
       "</table>\n",
       "<p>1000 rows × 12 columns</p>\n",
       "</div>"
      ],
      "text/plain": [
       "        Price  Competitor's Price  Sales Volume  Promotion_Yes  \\\n",
       "0    2.894253            2.842581      7.945910          False   \n",
       "1    2.912894            2.648300      6.484635          False   \n",
       "2    3.787819            3.673004      7.705713           True   \n",
       "3    3.767228            3.688379      7.358194           True   \n",
       "4    3.890595            3.841386      7.987185          False   \n",
       "..        ...                 ...           ...            ...   \n",
       "995  2.530517            2.262804      7.033506          False   \n",
       "996  3.886090            3.866607      6.338594          False   \n",
       "997  3.104587            2.981126      6.792344           True   \n",
       "998  3.170526            3.002211      7.839526          False   \n",
       "999  1.998774            1.832581      7.967280           True   \n",
       "\n",
       "     Foot Traffic_Low  Foot Traffic_Medium  Consumer Demographics_Families  \\\n",
       "0               False                 True                            True   \n",
       "1                True                False                           False   \n",
       "2               False                 True                           False   \n",
       "3                True                False                            True   \n",
       "4               False                 True                           False   \n",
       "..                ...                  ...                             ...   \n",
       "995             False                 True                            True   \n",
       "996             False                 True                           False   \n",
       "997             False                False                           False   \n",
       "998             False                 True                           False   \n",
       "999             False                 True                           False   \n",
       "\n",
       "     Consumer Demographics_Seniors  Consumer Demographics_Young adults  \\\n",
       "0                            False                               False   \n",
       "1                             True                               False   \n",
       "2                            False                                True   \n",
       "3                            False                               False   \n",
       "4                            False                               False   \n",
       "..                             ...                                 ...   \n",
       "995                          False                               False   \n",
       "996                          False                               False   \n",
       "997                           True                               False   \n",
       "998                           True                               False   \n",
       "999                          False                                True   \n",
       "\n",
       "     Product Category_Electronics  Product Category_Food  Seasonal_Yes  \n",
       "0                           False                  False         False  \n",
       "1                           False                  False         False  \n",
       "2                            True                  False          True  \n",
       "3                           False                  False          True  \n",
       "4                           False                  False          True  \n",
       "..                            ...                    ...           ...  \n",
       "995                          True                  False          True  \n",
       "996                         False                   True          True  \n",
       "997                          True                  False         False  \n",
       "998                          True                  False          True  \n",
       "999                          True                  False         False  \n",
       "\n",
       "[1000 rows x 12 columns]"
      ]
     },
     "execution_count": 18,
     "metadata": {},
     "output_type": "execute_result"
    }
   ],
   "source": [
    "X = df.drop(columns = 'Product Position')\n",
    "y = df['Product Position']\n",
    "\n",
    "X = pd.get_dummies(X, drop_first= True)\n",
    "X"
   ]
  },
  {
   "cell_type": "code",
   "execution_count": 19,
   "metadata": {
    "colab": {
     "base_uri": "https://localhost:8080/"
    },
    "id": "ukvwyF-mgTL4",
    "outputId": "1567305e-494e-4803-fd2f-26275d67fa86"
   },
   "outputs": [
    {
     "name": "stderr",
     "output_type": "stream",
     "text": [
      "C:\\Python3.10\\lib\\site-packages\\sklearn\\utils\\validation.py:605: FutureWarning: is_sparse is deprecated and will be removed in a future version. Check `isinstance(dtype, pd.SparseDtype)` instead.\n",
      "  if is_sparse(pd_dtype):\n",
      "C:\\Python3.10\\lib\\site-packages\\sklearn\\utils\\validation.py:614: FutureWarning: is_sparse is deprecated and will be removed in a future version. Check `isinstance(dtype, pd.SparseDtype)` instead.\n",
      "  if is_sparse(pd_dtype) or not is_extension_array_dtype(pd_dtype):\n"
     ]
    },
    {
     "data": {
      "text/plain": [
       "array([0, 0, 1, 0, 1, 1, 2, 0, 0, 0, 0, 0, 0, 2, 0, 1, 0, 2, 0, 1, 1, 2,\n",
       "       0, 1, 2, 2, 1, 2, 2, 2, 2, 0, 1, 1, 0, 1, 1, 0, 0, 1, 2, 0, 0, 1,\n",
       "       1, 0, 2, 1, 2, 1, 2, 1, 2, 2, 1, 2, 0, 1, 1, 2, 1, 2, 0, 0, 1, 0,\n",
       "       0, 1, 0, 2, 0, 1, 1, 0, 2, 2, 2, 1, 2, 0, 1, 0, 0, 2, 2, 0, 1, 0,\n",
       "       0, 0, 0, 1, 0, 2, 1, 2, 2, 1, 0, 0, 2, 2, 1, 0, 2, 2, 2, 2, 0, 1,\n",
       "       0, 1, 0, 0, 1, 0, 1, 1, 1, 2, 1, 1, 1, 2, 2, 0, 2, 2, 1, 0, 0, 1,\n",
       "       0, 1, 1, 1, 1, 1, 2, 0, 0, 0, 0, 2, 0, 0, 1, 2, 1, 2, 0, 2, 0, 2,\n",
       "       1, 2, 2, 1, 0, 0, 0, 1, 2, 1, 1, 0, 0, 0, 1, 2, 0, 0, 1, 2, 1, 2,\n",
       "       0, 2, 2, 1, 1, 1, 1, 2, 1, 0, 2, 0, 0, 2, 1, 2, 2, 1, 0, 0, 0, 2,\n",
       "       1, 1, 1, 2, 1, 0, 0, 0, 1, 1, 1, 2, 0, 0, 0, 1, 1, 1, 1, 0, 2, 0,\n",
       "       0, 0, 1, 0, 0, 0, 1, 1, 0, 1, 1, 0, 1, 2, 1, 0, 0, 0, 2, 0, 0, 2,\n",
       "       1, 1, 0, 0, 0, 2, 0, 0, 2, 2, 0, 1, 1, 2, 0, 0, 1, 2, 2, 2, 1, 2,\n",
       "       1, 2, 0, 2, 1, 2, 2, 1, 1, 1, 2, 1, 0, 0, 1, 0, 2, 0, 0, 2, 1, 2,\n",
       "       2, 0, 1, 2, 0, 2, 2, 2, 0, 1, 1, 1, 2, 2, 1, 1, 2, 1, 0, 2, 2, 1,\n",
       "       0, 1, 1, 1, 1, 1, 0, 2, 0, 1, 2, 0, 1, 1, 0, 2, 0, 1, 0, 1, 0, 2,\n",
       "       0, 0, 2, 2, 0, 1, 0, 1, 2, 2, 2, 2, 0, 2, 1, 1, 2, 2, 1, 0, 1, 1,\n",
       "       1, 0, 1, 1, 1, 2, 1, 1, 0, 2, 0, 0, 2, 1, 0, 1, 1, 1, 2, 2, 1, 2,\n",
       "       0, 0, 0, 2, 2, 2, 0, 1, 1, 2, 0, 2, 1, 0, 1, 0, 0, 1, 0, 1, 2, 0,\n",
       "       0, 0, 0, 0, 0, 0, 2, 2, 1, 1, 1, 1, 0, 0, 0, 2, 2, 2, 1, 0, 0, 1,\n",
       "       0, 2, 2, 1, 1, 2, 0, 0, 0, 0, 2, 1, 0, 1, 0, 2, 0, 2, 2, 2, 0, 2,\n",
       "       2, 0, 1, 1, 2, 0, 2, 2, 2, 1, 0, 0, 1, 2, 1, 2, 2, 0, 2, 0, 0, 0,\n",
       "       0, 0, 2, 0, 0, 1, 0, 1, 0, 2, 0, 1, 0, 2, 0, 0, 1, 1, 2, 1, 2, 2,\n",
       "       0, 2, 1, 1, 2, 2, 0, 2, 1, 0, 2, 2, 2, 1, 0, 2, 1, 0, 0, 1, 2, 1,\n",
       "       1, 1, 2, 1, 0, 2, 0, 2, 0, 2, 1, 0, 2, 2, 0, 1, 0, 1, 1, 2, 1, 2,\n",
       "       1, 1, 0, 2, 1, 1, 2, 2, 1, 1, 2, 0, 2, 1, 1, 2, 0, 2, 0, 0, 2, 0,\n",
       "       2, 1, 0, 2, 0, 2, 0, 1, 2, 1, 2, 0, 1, 0, 1, 2, 0, 1, 1, 1, 0, 1,\n",
       "       1, 1, 1, 2, 2, 0, 0, 2, 0, 1, 2, 0, 0, 1, 2, 1, 2, 1, 0, 0, 1, 1,\n",
       "       1, 2, 1, 2, 1, 2, 1, 1, 0, 2, 0, 2, 1, 0, 1, 1, 0, 1, 0, 0, 0, 2,\n",
       "       2, 0, 2, 0, 2, 2, 2, 0, 2, 0, 2, 0, 1, 2, 2, 2, 1, 0, 1, 0, 2, 2,\n",
       "       1, 1, 2, 1, 0, 0, 1, 1, 0, 2, 2, 1, 0, 2, 2, 2, 2, 2, 1, 1, 0, 0,\n",
       "       1, 2, 0, 1, 2, 0, 1, 1, 2, 1, 0, 1, 0, 1, 2, 2, 1, 2, 0, 0, 2, 1,\n",
       "       1, 2, 0, 0, 2, 0, 0, 0, 2, 2, 1, 2, 2, 0, 2, 2, 2, 0, 2, 2, 1, 1,\n",
       "       0, 1, 2, 2, 0, 2, 1, 1, 2, 1, 1, 0, 0, 2, 1, 1, 1, 2, 2, 2, 1, 1,\n",
       "       2, 1, 2, 0, 2, 2, 1, 1, 2, 1, 0, 1, 1, 0, 0, 1, 2, 0, 1, 0, 1, 0,\n",
       "       2, 2, 2, 0, 2, 2, 1, 0, 0, 1, 2, 2, 0, 2, 0, 2, 1, 2, 1, 2, 1, 2,\n",
       "       2, 1, 2, 1, 0, 0, 2, 0, 0, 2, 1, 0, 0, 2, 2, 1, 1, 1, 0, 2, 0, 1,\n",
       "       0, 0, 1, 1, 1, 1, 2, 0, 1, 1, 2, 0, 0, 2, 1, 2, 0, 1, 1, 0, 2, 1,\n",
       "       2, 1, 2, 0, 0, 2, 1, 2, 1, 0, 1, 1, 2, 1, 1, 1, 2, 2, 0, 0, 2, 2,\n",
       "       1, 0, 0, 2, 0, 2, 1, 1, 0, 1, 0, 1, 0, 0, 1, 1, 1, 1, 0, 1, 1, 2,\n",
       "       0, 0, 2, 1, 0, 0, 1, 2, 1, 0, 1, 0, 2, 0, 0, 0, 2, 0, 1, 1, 2, 2,\n",
       "       1, 1, 0, 0, 0, 1, 0, 1, 2, 1, 0, 2, 0, 0, 2, 0, 0, 1, 1, 2, 0, 0,\n",
       "       2, 1, 0, 1, 1, 2, 1, 1, 1, 1, 2, 2, 1, 0, 2, 2, 1, 1, 2, 1, 1, 2,\n",
       "       2, 0, 1, 0, 0, 2, 2, 0, 1, 0, 0, 1, 0, 1, 0, 2, 1, 2, 0, 1, 0, 1,\n",
       "       1, 0, 2, 2, 0, 1, 2, 2, 1, 2, 0, 0, 2, 0, 1, 2, 0, 0, 2, 0, 1, 0,\n",
       "       2, 2, 2, 2, 2, 1, 2, 0, 1, 0, 2, 0, 1, 0, 1, 1, 0, 2, 1, 0, 0, 1,\n",
       "       0, 1, 0, 0, 2, 1, 2, 0, 0, 1])"
      ]
     },
     "execution_count": 19,
     "metadata": {},
     "output_type": "execute_result"
    }
   ],
   "source": [
    "from sklearn import preprocessing\n",
    "\n",
    "label_encoder = preprocessing.LabelEncoder()\n",
    "y = label_encoder.fit_transform(y)\n",
    "\n",
    "y"
   ]
  },
  {
   "cell_type": "code",
   "execution_count": 20,
   "metadata": {
    "colab": {
     "base_uri": "https://localhost:8080/"
    },
    "id": "KsrLQkprfJDj",
    "outputId": "b8739c53-920a-4c41-c7e4-b8d3cb8ba6e9"
   },
   "outputs": [
    {
     "name": "stdout",
     "output_type": "stream",
     "text": [
      "Train set size: 800\n",
      "Test set size: 200\n"
     ]
    }
   ],
   "source": [
    "X_train, X_test, y_train, y_test = train_test_split(X, y, test_size=0.2, random_state=42)\n",
    "print(\"Train set size:\", len(X_train))\n",
    "print(\"Test set size:\", len(X_test))"
   ]
  },
  {
   "cell_type": "code",
   "execution_count": 23,
   "metadata": {
    "id": "rzuEBgZlvCHI"
   },
   "outputs": [],
   "source": [
    "from sklearn.ensemble import VotingClassifier\n",
    "from sklearn.linear_model import LogisticRegression\n",
    "from sklearn.svm import SVC\n",
    "from sklearn.ensemble import RandomForestClassifier\n",
    "from sklearn.tree import DecisionTreeClassifier\n",
    "\n",
    "estimators = []\n",
    "lg = LogisticRegression(solver ='lbfgs',multi_class ='multinomial', max_iter = 200)\n",
    "estimators.append((\"Lg\", lg))\n",
    "\n",
    "sv = SVC(kernel = 'linear')\n",
    "estimators.append((\"SVM\", sv))\n",
    "\n",
    "rf = RandomForestClassifier()\n",
    "estimators.append((\"RF\", rf))\n",
    "\n",
    "estimators.append(('DTC', DecisionTreeClassifier()))\n",
    "\n",
    "model = VotingClassifier(estimators = estimators, voting ='hard')"
   ]
  },
  {
   "cell_type": "code",
   "execution_count": 27,
   "metadata": {
    "colab": {
     "base_uri": "https://localhost:8080/"
    },
    "id": "zAdaXSFDjLgg",
    "outputId": "aa63d36e-e5f7-4155-b4e0-72f492949ea4"
   },
   "outputs": [
    {
     "name": "stderr",
     "output_type": "stream",
     "text": [
      "C:\\Python3.10\\lib\\site-packages\\sklearn\\utils\\validation.py:767: FutureWarning: is_sparse is deprecated and will be removed in a future version. Check `isinstance(dtype, pd.SparseDtype)` instead.\n",
      "  if not hasattr(array, \"sparse\") and array.dtypes.apply(is_sparse).any():\n",
      "C:\\Python3.10\\lib\\site-packages\\sklearn\\utils\\validation.py:605: FutureWarning: is_sparse is deprecated and will be removed in a future version. Check `isinstance(dtype, pd.SparseDtype)` instead.\n",
      "  if is_sparse(pd_dtype):\n",
      "C:\\Python3.10\\lib\\site-packages\\sklearn\\utils\\validation.py:614: FutureWarning: is_sparse is deprecated and will be removed in a future version. Check `isinstance(dtype, pd.SparseDtype)` instead.\n",
      "  if is_sparse(pd_dtype) or not is_extension_array_dtype(pd_dtype):\n",
      "C:\\Python3.10\\lib\\site-packages\\sklearn\\utils\\validation.py:767: FutureWarning: is_sparse is deprecated and will be removed in a future version. Check `isinstance(dtype, pd.SparseDtype)` instead.\n",
      "  if not hasattr(array, \"sparse\") and array.dtypes.apply(is_sparse).any():\n",
      "C:\\Python3.10\\lib\\site-packages\\sklearn\\utils\\validation.py:605: FutureWarning: is_sparse is deprecated and will be removed in a future version. Check `isinstance(dtype, pd.SparseDtype)` instead.\n",
      "  if is_sparse(pd_dtype):\n",
      "C:\\Python3.10\\lib\\site-packages\\sklearn\\utils\\validation.py:614: FutureWarning: is_sparse is deprecated and will be removed in a future version. Check `isinstance(dtype, pd.SparseDtype)` instead.\n",
      "  if is_sparse(pd_dtype) or not is_extension_array_dtype(pd_dtype):\n"
     ]
    },
    {
     "name": "stdout",
     "output_type": "stream",
     "text": [
      "List of possible accuracy: [0.33, 0.29, 0.29, 0.36, 0.3, 0.38, 0.33, 0.32, 0.32, 0.34]\n",
      "\n",
      "Maximum Accuracy That can be obtained from this model is: 38.0 %\n"
     ]
    }
   ],
   "source": [
    "from sklearn import preprocessing\n",
    "from sklearn.model_selection import StratifiedKFold\n",
    "\n",
    "scaler = preprocessing.MinMaxScaler()\n",
    "x_scaled = scaler.fit_transform(X)\n",
    "\n",
    "skf = StratifiedKFold(n_splits=10, shuffle=True, random_state=1)\n",
    "lst_accu_stratified = []\n",
    "\n",
    "for train_index, test_index in skf.split(X, y):\n",
    "    x_train_fold, x_test_fold = x_scaled[train_index], x_scaled[test_index]\n",
    "    y_train_fold, y_test_fold = y[train_index], y[test_index]\n",
    "    model.fit(x_train_fold, y_train_fold)\n",
    "    lst_accu_stratified.append(model.score(x_test_fold, y_test_fold))\n",
    "\n",
    "print('List of possible accuracy:', lst_accu_stratified)\n",
    "print('\\nMaximum Accuracy That can be obtained from this model is:', max(lst_accu_stratified)*100, '%')"
   ]
  },
  {
   "cell_type": "code",
   "execution_count": 28,
   "metadata": {
    "colab": {
     "base_uri": "https://localhost:8080/"
    },
    "id": "waJW1dvWkRfZ",
    "outputId": "a0e08f5f-c1bb-4e4f-f6ba-72befb7fa44c"
   },
   "outputs": [
    {
     "name": "stderr",
     "output_type": "stream",
     "text": [
      "C:\\Python3.10\\lib\\site-packages\\sklearn\\base.py:432: UserWarning: X has feature names, but LogisticRegression was fitted without feature names\n",
      "  warnings.warn(\n",
      "C:\\Python3.10\\lib\\site-packages\\sklearn\\utils\\validation.py:767: FutureWarning: is_sparse is deprecated and will be removed in a future version. Check `isinstance(dtype, pd.SparseDtype)` instead.\n",
      "  if not hasattr(array, \"sparse\") and array.dtypes.apply(is_sparse).any():\n",
      "C:\\Python3.10\\lib\\site-packages\\sklearn\\utils\\validation.py:605: FutureWarning: is_sparse is deprecated and will be removed in a future version. Check `isinstance(dtype, pd.SparseDtype)` instead.\n",
      "  if is_sparse(pd_dtype):\n",
      "C:\\Python3.10\\lib\\site-packages\\sklearn\\utils\\validation.py:614: FutureWarning: is_sparse is deprecated and will be removed in a future version. Check `isinstance(dtype, pd.SparseDtype)` instead.\n",
      "  if is_sparse(pd_dtype) or not is_extension_array_dtype(pd_dtype):\n",
      "C:\\Python3.10\\lib\\site-packages\\sklearn\\base.py:432: UserWarning: X has feature names, but SVC was fitted without feature names\n",
      "  warnings.warn(\n",
      "C:\\Python3.10\\lib\\site-packages\\sklearn\\utils\\validation.py:767: FutureWarning: is_sparse is deprecated and will be removed in a future version. Check `isinstance(dtype, pd.SparseDtype)` instead.\n",
      "  if not hasattr(array, \"sparse\") and array.dtypes.apply(is_sparse).any():\n",
      "C:\\Python3.10\\lib\\site-packages\\sklearn\\utils\\validation.py:605: FutureWarning: is_sparse is deprecated and will be removed in a future version. Check `isinstance(dtype, pd.SparseDtype)` instead.\n",
      "  if is_sparse(pd_dtype):\n",
      "C:\\Python3.10\\lib\\site-packages\\sklearn\\utils\\validation.py:614: FutureWarning: is_sparse is deprecated and will be removed in a future version. Check `isinstance(dtype, pd.SparseDtype)` instead.\n",
      "  if is_sparse(pd_dtype) or not is_extension_array_dtype(pd_dtype):\n",
      "C:\\Python3.10\\lib\\site-packages\\sklearn\\base.py:432: UserWarning: X has feature names, but RandomForestClassifier was fitted without feature names\n",
      "  warnings.warn(\n",
      "C:\\Python3.10\\lib\\site-packages\\sklearn\\utils\\validation.py:767: FutureWarning: is_sparse is deprecated and will be removed in a future version. Check `isinstance(dtype, pd.SparseDtype)` instead.\n",
      "  if not hasattr(array, \"sparse\") and array.dtypes.apply(is_sparse).any():\n",
      "C:\\Python3.10\\lib\\site-packages\\sklearn\\utils\\validation.py:605: FutureWarning: is_sparse is deprecated and will be removed in a future version. Check `isinstance(dtype, pd.SparseDtype)` instead.\n",
      "  if is_sparse(pd_dtype):\n",
      "C:\\Python3.10\\lib\\site-packages\\sklearn\\utils\\validation.py:614: FutureWarning: is_sparse is deprecated and will be removed in a future version. Check `isinstance(dtype, pd.SparseDtype)` instead.\n",
      "  if is_sparse(pd_dtype) or not is_extension_array_dtype(pd_dtype):\n",
      "C:\\Python3.10\\lib\\site-packages\\sklearn\\base.py:432: UserWarning: X has feature names, but DecisionTreeClassifier was fitted without feature names\n",
      "  warnings.warn(\n",
      "C:\\Python3.10\\lib\\site-packages\\sklearn\\utils\\validation.py:767: FutureWarning: is_sparse is deprecated and will be removed in a future version. Check `isinstance(dtype, pd.SparseDtype)` instead.\n",
      "  if not hasattr(array, \"sparse\") and array.dtypes.apply(is_sparse).any():\n",
      "C:\\Python3.10\\lib\\site-packages\\sklearn\\utils\\validation.py:605: FutureWarning: is_sparse is deprecated and will be removed in a future version. Check `isinstance(dtype, pd.SparseDtype)` instead.\n",
      "  if is_sparse(pd_dtype):\n",
      "C:\\Python3.10\\lib\\site-packages\\sklearn\\utils\\validation.py:614: FutureWarning: is_sparse is deprecated and will be removed in a future version. Check `isinstance(dtype, pd.SparseDtype)` instead.\n",
      "  if is_sparse(pd_dtype) or not is_extension_array_dtype(pd_dtype):\n"
     ]
    },
    {
     "data": {
      "text/plain": [
       "array(['Aisle', 'Aisle', 'Aisle', 'Aisle', 'Aisle', 'Aisle', 'Aisle',\n",
       "       'Aisle', 'Aisle', 'Aisle', 'Aisle', 'Aisle', 'Aisle', 'Aisle',\n",
       "       'Aisle', 'Aisle', 'Aisle', 'Aisle', 'Aisle', 'Aisle', 'Aisle',\n",
       "       'Aisle', 'Aisle', 'Aisle', 'Aisle', 'Aisle', 'Aisle', 'Aisle',\n",
       "       'Aisle', 'Aisle', 'Aisle', 'Aisle', 'Aisle', 'Aisle', 'Aisle',\n",
       "       'Aisle', 'Aisle', 'Aisle', 'Aisle', 'Aisle', 'Aisle', 'Aisle',\n",
       "       'Aisle', 'Aisle', 'Aisle', 'Aisle', 'Aisle', 'Aisle', 'Aisle',\n",
       "       'Aisle', 'Aisle', 'Aisle', 'Aisle', 'Aisle', 'Aisle', 'Aisle',\n",
       "       'Aisle', 'Aisle', 'Aisle', 'Aisle', 'Aisle', 'Aisle', 'Aisle',\n",
       "       'Aisle', 'Aisle', 'Aisle', 'Aisle', 'Aisle', 'Aisle', 'Aisle',\n",
       "       'Aisle', 'Aisle', 'Aisle', 'Aisle', 'Aisle', 'Aisle', 'Aisle',\n",
       "       'Aisle', 'Aisle', 'Aisle', 'Aisle', 'Aisle', 'Aisle', 'Aisle',\n",
       "       'Aisle', 'Aisle', 'Aisle', 'Aisle', 'Aisle', 'Aisle', 'Aisle',\n",
       "       'Aisle', 'Aisle', 'Aisle', 'Aisle', 'Aisle', 'Aisle', 'Aisle',\n",
       "       'Aisle', 'Aisle', 'Aisle', 'Aisle', 'Aisle', 'Aisle', 'Aisle',\n",
       "       'Aisle', 'Aisle', 'Aisle', 'Aisle', 'Aisle', 'Aisle', 'Aisle',\n",
       "       'Aisle', 'Aisle', 'Aisle', 'Aisle', 'Aisle', 'Aisle', 'Aisle',\n",
       "       'Aisle', 'Aisle', 'Aisle', 'Aisle', 'Aisle', 'Aisle', 'Aisle',\n",
       "       'Aisle', 'Aisle', 'Aisle', 'Aisle', 'Aisle', 'Aisle', 'Aisle',\n",
       "       'Aisle', 'Aisle', 'Aisle', 'Aisle', 'Aisle', 'Aisle', 'Aisle',\n",
       "       'Aisle', 'Aisle', 'Aisle', 'Aisle', 'Aisle', 'Aisle', 'Aisle',\n",
       "       'Aisle', 'Aisle', 'Aisle', 'Aisle', 'Aisle', 'Aisle', 'Aisle',\n",
       "       'Aisle', 'Aisle', 'Aisle', 'Aisle', 'Aisle', 'Aisle', 'Aisle',\n",
       "       'Aisle', 'Aisle', 'Aisle', 'Aisle', 'Aisle', 'Aisle', 'Aisle',\n",
       "       'Aisle', 'Aisle', 'Aisle', 'Aisle', 'Aisle', 'Aisle', 'Aisle',\n",
       "       'Aisle', 'Aisle', 'Aisle', 'Aisle', 'Aisle', 'Aisle', 'Aisle',\n",
       "       'Aisle', 'Aisle', 'Aisle', 'Aisle', 'Aisle', 'Aisle', 'Aisle',\n",
       "       'Aisle', 'Aisle', 'Aisle', 'Aisle', 'Aisle', 'Aisle', 'Aisle',\n",
       "       'Aisle', 'Aisle', 'Aisle', 'Aisle'], dtype=object)"
      ]
     },
     "execution_count": 28,
     "metadata": {},
     "output_type": "execute_result"
    }
   ],
   "source": [
    "y_pred = model.predict(X_test)\n",
    "y_pred = label_encoder.inverse_transform(y_pred)\n",
    "y_pred"
   ]
  },
  {
   "cell_type": "code",
   "execution_count": 29,
   "metadata": {},
   "outputs": [
    {
     "data": {
      "text/plain": [
       "array([0])"
      ]
     },
     "execution_count": 29,
     "metadata": {},
     "output_type": "execute_result"
    }
   ],
   "source": [
    "model.predict([[17.07, 16.16, 2823, 0, 0, 1, 1, 0, 0, 0, 0, 0]])"
   ]
  },
  {
   "cell_type": "markdown",
   "metadata": {
    "id": "Jq6r4oohlXhT"
   },
   "source": [
    "Pickling the file:"
   ]
  },
  {
   "cell_type": "code",
   "execution_count": 26,
   "metadata": {
    "id": "MBqCd_LMlW4K"
   },
   "outputs": [],
   "source": [
    "import pickle\n",
    "file = open('ensemble_learning.pkl', 'wb')\n",
    "\n",
    "# dump information to that file\n",
    "pickle.dump(model, file)"
   ]
  }
 ],
 "metadata": {
  "colab": {
   "provenance": []
  },
  "kernelspec": {
   "display_name": "Python 3 (ipykernel)",
   "language": "python",
   "name": "python3"
  },
  "language_info": {
   "codemirror_mode": {
    "name": "ipython",
    "version": 3
   },
   "file_extension": ".py",
   "mimetype": "text/x-python",
   "name": "python",
   "nbconvert_exporter": "python",
   "pygments_lexer": "ipython3",
   "version": "3.10.0"
  }
 },
 "nbformat": 4,
 "nbformat_minor": 4
}
